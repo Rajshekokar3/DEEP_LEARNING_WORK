{
 "cells": [
  {
   "cell_type": "markdown",
   "id": "0faf42e0",
   "metadata": {},
   "source": [
    "For your web scraping project on the Shopper Stop website, here are a few task ideas to guide you:\n",
    "\n",
    "### 1. Product Information Scraping:\n",
    "Task: Scrape the product details like name, price, category, brand, and rating.\n",
    "Steps:\n",
    "Identify the product listings page.\n",
    "Scrape the product name, price, and category (e.g., clothing, accessories, etc.).\n",
    "Extract the brand and user ratings if available.\n",
    "### 2. Price Comparison:\n",
    "Task: Create a price tracker for specific products.\n",
    "Steps:\n",
    "Select a set of products (e.g., specific brands or categories like shoes).\n",
    "Track the price over time by scraping the price at intervals (daily/weekly).\n",
    "Visualize the price trend in a chart to monitor price drops.\n",
    "### 3. Discounts and Offers:\n",
    "Task: Scrape discount information for products on sale.\n",
    "Steps:\n",
    "Find sections or labels related to discounts and offers (e.g., \"50% off\" or \"Buy 1 Get 1 Free\").\n",
    "Extract the discount details, including original price, sale price, and discount percentage.\n",
    "### 4. Category Analysis:\n",
    "Task: Scrape product counts by category to analyze inventory distribution.\n",
    "Steps:\n",
    "Identify all the categories on the website (e.g., Men, Women, Kids).\n",
    "Scrape the number of products in each category.\n",
    "Analyze which category has the most listings.\n",
    "### 5. Customer Reviews:\n",
    "Task: Scrape customer reviews for specific products.\n",
    "Steps:\n",
    "Find a product with customer reviews.\n",
    "Extract details like review text, rating, and review date.\n",
    "Perform sentiment analysis on the reviews to gauge customer satisfaction."
   ]
  },
  {
   "cell_type": "code",
   "execution_count": 1,
   "id": "a4750327",
   "metadata": {},
   "outputs": [],
   "source": [
    "import pandas as pd \n",
    "import numpy as np\n",
    "import requests \n",
    "from bs4 import BeautifulSoup"
   ]
  },
  {
   "cell_type": "code",
   "execution_count": 2,
   "id": "b336b1b6",
   "metadata": {},
   "outputs": [],
   "source": [
    "url=\"https://www.meesho.com/sarees/pl/3iy\""
   ]
  },
  {
   "cell_type": "code",
   "execution_count": 3,
   "id": "0644c290",
   "metadata": {},
   "outputs": [],
   "source": [
    "response=requests.get(url)"
   ]
  },
  {
   "cell_type": "code",
   "execution_count": 4,
   "id": "64694099",
   "metadata": {},
   "outputs": [
    {
     "data": {
      "text/plain": [
       "200"
      ]
     },
     "execution_count": 4,
     "metadata": {},
     "output_type": "execute_result"
    }
   ],
   "source": [
    "response.status_code"
   ]
  },
  {
   "cell_type": "code",
   "execution_count": 5,
   "id": "bed2ef00",
   "metadata": {},
   "outputs": [],
   "source": [
    "page_content=response.text"
   ]
  },
  {
   "cell_type": "code",
   "execution_count": 6,
   "id": "06cf0424",
   "metadata": {},
   "outputs": [
    {
     "data": {
      "text/plain": [
       "254335"
      ]
     },
     "execution_count": 6,
     "metadata": {},
     "output_type": "execute_result"
    }
   ],
   "source": [
    "len(page_content)"
   ]
  },
  {
   "cell_type": "code",
   "execution_count": 7,
   "id": "72911b5c",
   "metadata": {},
   "outputs": [],
   "source": [
    "soup=BeautifulSoup(page_content,'html.parser')"
   ]
  },
  {
   "cell_type": "code",
   "execution_count": 8,
   "id": "b4f184af",
   "metadata": {},
   "outputs": [],
   "source": [
    "saree_selection='DesktopHeader__HeaderStyled-sc-r0p6o1-1 crXaie'\n",
    "saree_category=soup.find_all('div',saree_selection)"
   ]
  },
  {
   "cell_type": "code",
   "execution_count": 9,
   "id": "e13ffa5a",
   "metadata": {
    "scrolled": true
   },
   "outputs": [
    {
     "data": {
      "text/plain": [
       "[<div class=\"DesktopHeader__HeaderStyled-sc-r0p6o1-1 crXaie\"><div class=\"sc-bcXHqe DesktopHeader__ContainerStyled-sc-r0p6o1-0 cppHWG diRTuB\"><div class=\"S_HeaderDesk-sc-1ha87h2-0 bJZpML\"><div class=\"header-logo-container\"><a href=\"/\"><img alt=\"Meesho Logo\" data-nimg=\"1\" decoding=\"async\" height=\"36\" loading=\"lazy\" src=\"/assets/svgicons/meeshoLogo.svg\" style=\"color:transparent\" width=\"156\"/></a></div><div class=\"DesktopSearchStyled-sc-ap5mq9-0 eaJJtr search-component\"><div class=\"sc-lllmON gPXgcP SearchInput__TextSearchStyled-sc-jwhbpx-0 vKLvf\" placeholder=\"Try Saree, Kurti or Search by Product Code\"><div class=\"sc-iJnaPW jhThTU\"><svg fill=\"none\" height=\"20\" viewbox=\"0 0 20 20\" width=\"20\" xmlns=\"http://www.w3.org/2000/svg\"><g clip-path=\"url(#clip0_1770_1836)\"><path d=\"M19.7695 18.6698L16.0096 14.9098C17.3296 13.3298 18.1296 11.2999 18.1296 9.07989C18.1296 4.05995 14.0697 0 9.05978 0C4.0599 0 0 4.05995 0 9.07989C0 14.0998 4.0599 18.1598 9.05978 18.1598C11.2897 18.1598 13.3297 17.3498 14.9096 16.0098L18.6695 19.7698C18.9695 20.0698 19.4695 20.0698 19.7695 19.7698C20.0795 19.4698 20.0795 18.9698 19.7695 18.6698ZM9.05978 16.5998C4.91988 16.5998 1.54996 13.2298 1.54996 9.07989C1.54996 4.92994 4.91988 1.55998 9.05978 1.55998C13.1997 1.55998 16.5696 4.92994 16.5696 9.07989C16.5696 13.2298 13.1997 16.5998 9.05978 16.5998Z\" fill=\"#8B8BA3\"></path></g><defs><clippath id=\"clip0_1770_1836\"><rect fill=\"white\" height=\"19.9998\" width=\"19.9995\"></rect></clippath></defs></svg></div><input class=\"sc-eDvSVe gUjMRV sc-bYMpWt hDUdhi search-input-elm sc-bYMpWt hDUdhi search-input-elm\" color=\"greyBase\" font-size=\"16px\" font-weight=\"book\" placeholder=\"Try Saree, Kurti or Search by Product Code\" type=\"text\" value=\"\"/></div></div><div class=\"sc-ftTHYK eHVGcU Header__RightSection-sc-1qdannb-0 etmGip Header__RightSection-sc-1qdannb-0 etmGip\" color=\"white\"><div class=\"sc-ftTHYK gZbLXj TabWrapper-sc-1edf3ww-0 clzpsA TabWrapper-sc-1edf3ww-0 clzpsA\" color=\"white\"><svg class=\"sc-pyfCe leNxcK hover\" iconsize=\"20\" mr=\"8\" viewbox=\"0 0 16 24\" xmlns=\"http://www.w3.org/2000/svg\"><path clip-rule=\"evenodd\" d=\"M4.16 1.872h7.68c.822 0 1.488.666 1.488 1.488v.103H2.672V3.36c0-.822.666-1.488 1.488-1.488ZM2.672 5.335v11.469h10.656V5.335H2.672Zm0 15.305v-1.964h10.656v1.964c0 .822-.666 1.488-1.488 1.488H4.16a1.488 1.488 0 0 1-1.488-1.488ZM.8 3.36A3.36 3.36 0 0 1 4.16 0h7.68a3.36 3.36 0 0 1 3.36 3.36v17.28A3.36 3.36 0 0 1 11.84 24H4.16A3.36 3.36 0 0 1 .8 20.64V3.36Zm6 16.447a.6.6 0 0 0 0 1.2h2.4a.6.6 0 1 0 0-1.2H6.8Z\" fill=\"#333\" fill-rule=\"evenodd\"></path></svg><span class=\"sc-eDvSVe gUjMRV\" color=\"#353543\" font-size=\"16px\" font-weight=\"book\">Download App</span></div><div class=\"sc-ksBlkl Header__StyledDivider-sc-1qdannb-1 kccSqH euibuZ\"></div><div class=\"sc-ftTHYK gZbLXj TabWrapper-sc-1edf3ww-0 clzpsA TabWrapper-sc-1edf3ww-0 clzpsA\" color=\"white\"><span class=\"sc-eDvSVe gUjMRV Header__StyledCaption-sc-1qdannb-3 hikrEg hover Header__StyledCaption-sc-1qdannb-3 hikrEg hover\" color=\"#353543\" font-size=\"16px\" font-weight=\"book\">Become a Supplier</span></div><div class=\"sc-ksBlkl Header__StyledDivider-sc-1qdannb-1 kccSqH euibuZ\"></div><div class=\"sc-ftTHYK gZbLXj TabWrapper-sc-1edf3ww-0 clzpsA TabWrapper-sc-1edf3ww-0 clzpsA\" color=\"white\"><span class=\"sc-eDvSVe gUjMRV Header__StyledCaption-sc-1qdannb-3 hikrEg hover Header__StyledCaption-sc-1qdannb-3 hikrEg hover\" color=\"#353543\" font-size=\"16px\" font-weight=\"book\">Newsroom</span></div><div class=\"sc-ksBlkl Header__StyledDivider-sc-1qdannb-1 kccSqH euibuZ\"></div><div class=\"sc-ftTHYK eHVGcU TabWrapper-sc-1edf3ww-0 Header__StyledProfileMenu-sc-1qdannb-2 kyKAmE HCCmz TabWrapper-sc-1edf3ww-0 Header__StyledProfileMenu-sc-1qdannb-2 kyKAmE HCCmz\" color=\"white\"><svg class=\"sc-pyfCe leNxcK hover\" iconsize=\"20\" mr=\"8\" viewbox=\"0 0 24 24\" xmlns=\"http://www.w3.org/2000/svg\"><g clip-path=\"url(#user_svg__a)\"><path d=\"M15.316 13.016c1.512-1.058 2.516-2.797 2.516-4.784A5.835 5.835 0 0 0 12 2.4a5.835 5.835 0 0 0-5.832 5.832 5.79 5.79 0 0 0 2.517 4.784C4.343 14.291 1.2 17.996 1.2 22.37v.022c0 .896.843 1.609 1.825 1.609h17.95c.983 0 1.825-.713 1.825-1.61v-.02c0-4.375-3.143-8.08-7.484-9.354ZM7.853 8.232a4.148 4.148 0 0 1 8.294 0 4.148 4.148 0 0 1-8.294 0Zm13.122 14.083H3.025a.245.245 0 0 1-.14-.032c.054-4.45 4.126-8.057 9.115-8.057 4.99 0 9.05 3.596 9.115 8.057a.245.245 0 0 1-.14.032Z\" fill=\"#333\"></path></g><defs><clippath id=\"user_svg__a\"><path d=\"M0 0h21.6v21.6H0z\" fill=\"#fff\" transform=\"translate(1.2 2.4)\"></path></clippath></defs></svg><span class=\"sc-eDvSVe gUjMRV hover hover\" color=\"#353543\" font-size=\"16px\" font-weight=\"book\">Profile</span></div><a href=\"/auth?redirect=https%3A%2F%2Fwww.meesho.com%2Fmcheckout%2Fcart&amp;source=cart-icon&amp;screen=PLP\"><div class=\"sc-ftTHYK gZbLXj TabWrapper-sc-1edf3ww-0 kyKAmE TabWrapper-sc-1edf3ww-0 kyKAmE\" color=\"white\"><svg class=\"sc-pyfCe hSGtBS hover\" fill=\"none\" iconsize=\"20\" mr=\"8\" stroke=\"greyBase\" viewbox=\"0 0 20 20\" xmlns=\"http://www.w3.org/2000/svg\"><path d=\"m4.987 5.469 1.848 7.2a1 1 0 0 0 .968.752h8.675a1 1 0 0 0 .962-.726l1.697-5.952a1 1 0 0 0-.962-1.274H4.987Zm0 0-.943-3.248a1 1 0 0 0-.96-.721H1\" stroke=\"#666\" stroke-linecap=\"round\" stroke-width=\"1.5\"></path><ellipse cx=\"9.421\" cy=\"16.744\" rx=\"1.243\" ry=\"1.256\" stroke=\"#666\" stroke-width=\"1.5\"></ellipse><ellipse cx=\"15.221\" cy=\"16.744\" rx=\"1.243\" ry=\"1.256\" stroke=\"#666\" stroke-width=\"1.5\"></ellipse></svg><span class=\"sc-eDvSVe gUjMRV hover hover\" color=\"#353543\" font-size=\"16px\" font-weight=\"book\">Cart</span></div></a></div></div></div><div class=\"sc-ksBlkl cTXbpL\"></div><div class=\"SEONavTree__StyledNavTree-sc-ozdxs8-0 llZXQj\"><a href=\"https://www.meesho.com//ethnicwear-women/pl/3tq\">View All</a><a href=\"https://www.meesho.com//sarees/pl/3iy\">All Sarees</a><a href=\"https://www.meesho.com//silk-sarees/pl/3j4\">Silk Sarees</a><a href=\"https://www.meesho.com//cotton-silk-sarees/pl/3jt\">Cotton Silk Sarees</a><a href=\"https://www.meesho.com//cotton-sarees/pl/3jh\">Cotton Sarees</a><a href=\"https://www.meesho.com//georgette-sarees/pl/3m1\">Georgette Sarees</a><a href=\"https://www.meesho.com//chiffon-sarees/pl/3m0\">Chiffon Sarees</a><a href=\"https://www.meesho.com//satin-sarees/pl/3k5\">Satin Sarees</a><a href=\"https://www.meesho.com//embroidered-sarees/pl/3ju\">Embroidered Sarees</a><a href=\"https://www.meesho.com//women-kurtis/pl/3j0\">All Kurtis</a><a href=\"https://www.meesho.com//anarkali-women-kurtis/pl/3jc\">Anarkali Kurtis</a><a href=\"https://www.meesho.com//rayon-women-kurtis/pl/3jz\">Rayon Kurtis</a><a href=\"https://www.meesho.com//cotton-women-kurtis/pl/3jj\">Cotton Kurtis</a><a href=\"https://www.meesho.com//embroidered-women-kurtis/pl/3k0\">Embroidered Kurtis</a><a href=\"https://www.meesho.com//kurta-sets-women/pl/3k9\">All Kurta Sets</a><a href=\"https://www.meesho.com//women-suits-dress-materials/pl/3iz\">All Suits &amp; Dress Material</a><a href=\"https://www.meesho.com//cotton-women-suits-dress-materials/pl/3jk\">Cotton Suits</a><a href=\"https://www.meesho.com//embroidered-women-suits-dress-materials/pl/3k1\">Embroidered Suits</a><a href=\"https://www.meesho.com//chanderi-suits-dress-materials/pl/3jv\">Chanderi Suits</a><a href=\"https://www.meesho.com//blouses/pl/3l5\">Blouses</a><a href=\"https://www.meesho.com//dupattas/pl/3lz\">Dupattas</a><a href=\"https://www.meesho.com//lehengas/pl/3l6\">Lehanga</a><a href=\"https://www.meesho.com//gowns-women/pl/3l9\">Gown</a><a href=\"https://www.meesho.com//ethnic-bottomwear-women/pl/3ta\">Ethnic Bottomwear</a><a href=\"https://www.meesho.com//tops-ladies/pl/3ja\">Tops</a><a href=\"https://www.meesho.com//dresses-women/pl/3j3\">Dresses</a><a href=\"https://www.meesho.com//sweaters-women/pl/3l2\">Sweaters</a><a href=\"https://www.meesho.com//jumpsuits-women/pl/3kq\">Jumpsuits</a><a href=\"https://www.meesho.com//jeans-women/pl/3kc\">Jeans</a><a href=\"https://www.meesho.com//jeggings/pl/3kk\">Jeggings</a><a href=\"https://www.meesho.com//palazzo-pants/pl/3jb\">Palazzos</a><a href=\"https://www.meesho.com//shorts-women/pl/3kp\">Shorts</a><a href=\"https://www.meesho.com//skirts-ladies/pl/3jf\">Skirts</a><a href=\"https://www.meesho.com//ladies-bra/pl/3ji\">Bra</a><a href=\"https://www.meesho.com//briefs-women/pl/3kl\">Briefs</a><a href=\"https://www.meesho.com//nightdresses-women/pl/3nm\">Nightsuits</a><a href=\"https://www.meesho.com//babydoll-dress/pl/3kv\">Babydolls</a><a href=\"https://www.meesho.com//topwear-men/pl/3tc\">All Top Wear</a><a href=\"https://www.meesho.com//tshirts-men/pl/3k8\">Tshirts</a><a href=\"https://www.meesho.com//shirts-men/pl/3jq\">Shirts</a><a href=\"https://www.meesho.com//track-pants-men/pl/3kw\">Track Pants</a><a href=\"https://www.meesho.com//jeans-men/pl/3nw\">Jeans</a><a href=\"https://www.meesho.com//trousers-men/pl/3lw\">Trousers</a><a href=\"https://www.meesho.com//accessories-men/pl/3tp\">All Men Accessories</a><a href=\"https://www.meesho.com//men-watches/pl/3k7\">Watches</a><a href=\"https://www.meesho.com//belts-men/pl/3nn\">Belts</a><a href=\"https://www.meesho.com//wallets-men/pl/3o5\">Wallets</a><a href=\"https://www.meesho.com//jewellery-men/pl/3tb\">Jewellery</a><a href=\"https://www.meesho.com//sunglasses-men/pl/3jr\">Sunglasses</a><a href=\"https://www.meesho.com//bags-backpacks-men/pl/3kr\">Bags</a><a href=\"https://www.meesho.com//casual-shoes-men/pl/3m2\">Casual Shoes</a><a href=\"https://www.meesho.com//sports-shoes-men/pl/3kj\">Sports Shoes</a><a href=\"https://www.meesho.com//sandals-men/pl/3js\">Sandals</a><a href=\"https://www.meesho.com//formal-shoes-for-men/pl/3o6\">Formal Shoes</a><a href=\"https://www.meesho.com//men-kurtas/pl/3j2\">Men Kurtas</a><a href=\"https://www.meesho.com//ethnic-jackets-men/pl/3j6\">Ethnic Jackets</a><a href=\"https://www.meesho.com//inner-sleepwear-men/pl/3te\">All Inner &amp; Sleep Wear</a><a href=\"https://www.meesho.com//vests-men/pl/3l0\">Vests</a><a href=\"https://www.meesho.com//dresses-kids/pl/3jg\">Dresses</a><a href=\"https://www.meesho.com//rompers/pl/3l4\">Rompers</a><a href=\"https://www.meesho.com//soft-toys-kids/pl/3l1\">Soft Toys</a><a href=\"https://www.meesho.com//footwear-kids/pl/3ti\">Footwear</a><a href=\"https://www.meesho.com//stationery-items/pl/3kz\">Stationery</a><a href=\"https://www.meesho.com//watches-kids/pl/3ko\">Watches</a><a href=\"https://www.meesho.com//bags-kids/pl/3kx\">Bags &amp; Backpacks</a><a href=\"https://www.meesho.com//baby-care/pl/3tj\">All Baby Care</a><a href=\"https://www.meesho.com//bedsheets/pl/3jm\">Bedsheets</a><a href=\"https://www.meesho.com//door-bath-mats/pl/3kf\">Doormats</a><a href=\"https://www.meesho.com//curtains-sheers/pl/3jn\">Curtains &amp; Sheers</a><a href=\"https://www.meesho.com//cushion-covers/pl/3k3\">Cushions &amp; Cushion Covers</a><a href=\"https://www.meesho.com//mattress-protectors/pl/3l3\">Mattress Protectors</a><a href=\"https://www.meesho.com//home-decor/pl/3tl\">All Home Decor</a><a href=\"https://www.meesho.com//decorative-stickers/pl/3ka\">Stickers</a><a href=\"https://www.meesho.com//clocks/pl/3kh\">Clocks</a><a href=\"https://www.meesho.com//show-pieces-home/pl/3ku\">Showpieces</a><a href=\"https://www.meesho.com//kitchen-storage/pl/3tn\">Kitchen Storage</a><a href=\"https://www.meesho.com//cookware-bakeware/pl/3tm\">Cookware &amp; Bakeware</a><a href=\"https://www.meesho.com//face-makeup/pl/3j7\">Face</a><a href=\"https://www.meesho.com//eye-makeup/pl/3j1\">Eyes</a><a href=\"https://www.meesho.com//lips-makeup/pl/3jd\">Lips</a><a href=\"https://www.meesho.com//nails-makeup/pl/3j9\">Nails</a><a href=\"https://www.meesho.com//sanitizers/pl/3kg\">Sanitizers</a><a href=\"https://www.meesho.com//oral-care/pl/3tf\">Oral Care</a><a href=\"https://www.meesho.com//feminine-hygiene/pl/3tg\">Feminine Hygiene</a><a href=\"https://www.meesho.com//deodrants/pl/3kt\">Deodorants</a><a href=\"https://www.meesho.com//jewellery-sets-women/pl/3jy\">Jewellery Set</a><a href=\"https://www.meesho.com//earrings-women/pl/3lc\">Earrings</a><a href=\"https://www.meesho.com//mangalsutras/pl/3j5\">Mangalsutras</a><a href=\"https://www.meesho.com//stud-earrings-women/pl/3n9\">Studs</a><a href=\"https://www.meesho.com//bangles-women/pl/3lv\">Bangles</a><a href=\"https://www.meesho.com//necklaces/pl/3lh\">Necklaces</a><a href=\"https://www.meesho.com//rings-women/pl/3j8\">Rings</a><a href=\"https://www.meesho.com//anklets-payal/pl/3je\">Anklets</a><a href=\"https://www.meesho.com//bags-ladies/pl/3jo\">Bags</a><a href=\"https://www.meesho.com//women-watches/pl/3jx\">Watches</a><a href=\"https://www.meesho.com//hair-accessories-women/pl/3jl\">Hair Accessories</a><a href=\"https://www.meesho.com//sunglasses-women/pl/3kd\">Sunglasses</a><a href=\"https://www.meesho.com//socks-women/pl/3km\">Socks</a><a href=\"https://www.meesho.com//bags-ladies/pl/3jo\">All Women Bags</a><a href=\"https://www.meesho.com//handbags-women/pl/3k2\">Handbags</a><a href=\"https://www.meesho.com//clutches-bags-women/pl/3nd\">Clutches</a><a href=\"https://www.meesho.com//slingbags-women/pl/3k4\">Slingbags</a><a href=\"https://www.meesho.com//bags-backpacks-men/pl/3kr\">All Men Bags</a><a href=\"https://www.meesho.com//wallets-men/pl/3o5\">Men Wallets</a><a href=\"https://www.meesho.com//sports-shoes-men/pl/3kj\">Sports Shoes</a><a href=\"https://www.meesho.com//casual-shoes-men/pl/3m2\">Casual Shoes</a><a href=\"https://www.meesho.com//formal-shoes-for-men/pl/3o6\">Formal Shoes</a><a href=\"https://www.meesho.com//sandals-men/pl/3js\">Sandals</a><a href=\"https://www.meesho.com//flats-women/pl/3o1\">Flats</a><a href=\"https://www.meesho.com//bellies/pl/3n8\">Bellies</a><a href=\"https://www.meesho.com//jutti/pl/3lx\">Juttis</a><a href=\"https://www.meesho.com//mobiles-and-accessories/pl/3tk\">All Mobile &amp; Accessories</a><a href=\"https://www.meesho.com//smart-watches/pl/3ks\">Smartwatches</a><a href=\"https://www.meesho.com//mobile-holders/pl/3ky\">Mobile Holders</a><a href=\"https://www.meesho.com//mobile-cases-covers/pl/3q3\">Mobile cases and covers</a><a href=\"https://www.meesho.com//appliances/pl/3to\">All Appliances</a><a href=\"https://www.meesho.com//grooming-kits-men/pl/3kn\">Grooming</a><a href=\"https://www.meesho.com//home-appliances/pl/3th\">Home Appliances</a></div><div class=\"jsx-1230250450 overlayy\"></div></div>]"
      ]
     },
     "execution_count": 9,
     "metadata": {},
     "output_type": "execute_result"
    }
   ],
   "source": [
    "\n",
    "saree_category"
   ]
  },
  {
   "cell_type": "code",
   "execution_count": 10,
   "id": "7b86e676",
   "metadata": {},
   "outputs": [
    {
     "data": {
      "text/plain": [
       "1"
      ]
     },
     "execution_count": 10,
     "metadata": {},
     "output_type": "execute_result"
    }
   ],
   "source": [
    "len(saree_category)"
   ]
  },
  {
   "cell_type": "code",
   "execution_count": 11,
   "id": "0e8e432d",
   "metadata": {},
   "outputs": [
    {
     "data": {
      "text/plain": [
       "'Download AppBecome a SupplierNewsroomProfileCartView AllAll SareesSilk SareesCotton Silk SareesCotton SareesGeorgette SareesChiffon SareesSatin SareesEmbroidered SareesAll KurtisAnarkali KurtisRayon KurtisCotton KurtisEmbroidered KurtisAll Kurta SetsAll Suits & Dress MaterialCotton SuitsEmbroidered SuitsChanderi SuitsBlousesDupattasLehangaGownEthnic BottomwearTopsDressesSweatersJumpsuitsJeansJeggingsPalazzosShortsSkirtsBraBriefsNightsuitsBabydollsAll Top WearTshirtsShirtsTrack PantsJeansTrousersAll Men AccessoriesWatchesBeltsWalletsJewellerySunglassesBagsCasual ShoesSports ShoesSandalsFormal ShoesMen KurtasEthnic JacketsAll Inner & Sleep WearVestsDressesRompersSoft ToysFootwearStationeryWatchesBags & BackpacksAll Baby CareBedsheetsDoormatsCurtains & SheersCushions & Cushion CoversMattress ProtectorsAll Home DecorStickersClocksShowpiecesKitchen StorageCookware & BakewareFaceEyesLipsNailsSanitizersOral CareFeminine HygieneDeodorantsJewellery SetEarringsMangalsutrasStudsBanglesNecklacesRingsAnkletsBagsWatchesHair AccessoriesSunglassesSocksAll Women BagsHandbagsClutchesSlingbagsAll Men BagsMen WalletsSports ShoesCasual ShoesFormal ShoesSandalsFlatsBelliesJuttisAll Mobile & AccessoriesSmartwatchesMobile HoldersMobile cases and coversAll AppliancesGroomingHome Appliances'"
      ]
     },
     "execution_count": 11,
     "metadata": {},
     "output_type": "execute_result"
    }
   ],
   "source": [
    "saree_link=['sub-list-item pointer','sub-list-item pointer','class=\"sub-list-item pointer\",sub-list-item pointer','sub-list-item pointer','sub-list-item pointer','sub-list-item pointer']\n",
    "saree_category[0].text.strip()"
   ]
  },
  {
   "cell_type": "code",
   "execution_count": 12,
   "id": "42351ef6",
   "metadata": {},
   "outputs": [],
   "source": [
    "tags_catego=\"SEONavTree__StyledNavTree-sc-ozdxs8-0 llZXQj\"\n",
    "tags_catego=saree_category[0].find_all('div',{'class':tags_catego})"
   ]
  },
  {
   "cell_type": "code",
   "execution_count": 13,
   "id": "8a1d1834",
   "metadata": {
    "scrolled": true
   },
   "outputs": [
    {
     "data": {
      "text/plain": [
       "[<div class=\"SEONavTree__StyledNavTree-sc-ozdxs8-0 llZXQj\"><a href=\"https://www.meesho.com//ethnicwear-women/pl/3tq\">View All</a><a href=\"https://www.meesho.com//sarees/pl/3iy\">All Sarees</a><a href=\"https://www.meesho.com//silk-sarees/pl/3j4\">Silk Sarees</a><a href=\"https://www.meesho.com//cotton-silk-sarees/pl/3jt\">Cotton Silk Sarees</a><a href=\"https://www.meesho.com//cotton-sarees/pl/3jh\">Cotton Sarees</a><a href=\"https://www.meesho.com//georgette-sarees/pl/3m1\">Georgette Sarees</a><a href=\"https://www.meesho.com//chiffon-sarees/pl/3m0\">Chiffon Sarees</a><a href=\"https://www.meesho.com//satin-sarees/pl/3k5\">Satin Sarees</a><a href=\"https://www.meesho.com//embroidered-sarees/pl/3ju\">Embroidered Sarees</a><a href=\"https://www.meesho.com//women-kurtis/pl/3j0\">All Kurtis</a><a href=\"https://www.meesho.com//anarkali-women-kurtis/pl/3jc\">Anarkali Kurtis</a><a href=\"https://www.meesho.com//rayon-women-kurtis/pl/3jz\">Rayon Kurtis</a><a href=\"https://www.meesho.com//cotton-women-kurtis/pl/3jj\">Cotton Kurtis</a><a href=\"https://www.meesho.com//embroidered-women-kurtis/pl/3k0\">Embroidered Kurtis</a><a href=\"https://www.meesho.com//kurta-sets-women/pl/3k9\">All Kurta Sets</a><a href=\"https://www.meesho.com//women-suits-dress-materials/pl/3iz\">All Suits &amp; Dress Material</a><a href=\"https://www.meesho.com//cotton-women-suits-dress-materials/pl/3jk\">Cotton Suits</a><a href=\"https://www.meesho.com//embroidered-women-suits-dress-materials/pl/3k1\">Embroidered Suits</a><a href=\"https://www.meesho.com//chanderi-suits-dress-materials/pl/3jv\">Chanderi Suits</a><a href=\"https://www.meesho.com//blouses/pl/3l5\">Blouses</a><a href=\"https://www.meesho.com//dupattas/pl/3lz\">Dupattas</a><a href=\"https://www.meesho.com//lehengas/pl/3l6\">Lehanga</a><a href=\"https://www.meesho.com//gowns-women/pl/3l9\">Gown</a><a href=\"https://www.meesho.com//ethnic-bottomwear-women/pl/3ta\">Ethnic Bottomwear</a><a href=\"https://www.meesho.com//tops-ladies/pl/3ja\">Tops</a><a href=\"https://www.meesho.com//dresses-women/pl/3j3\">Dresses</a><a href=\"https://www.meesho.com//sweaters-women/pl/3l2\">Sweaters</a><a href=\"https://www.meesho.com//jumpsuits-women/pl/3kq\">Jumpsuits</a><a href=\"https://www.meesho.com//jeans-women/pl/3kc\">Jeans</a><a href=\"https://www.meesho.com//jeggings/pl/3kk\">Jeggings</a><a href=\"https://www.meesho.com//palazzo-pants/pl/3jb\">Palazzos</a><a href=\"https://www.meesho.com//shorts-women/pl/3kp\">Shorts</a><a href=\"https://www.meesho.com//skirts-ladies/pl/3jf\">Skirts</a><a href=\"https://www.meesho.com//ladies-bra/pl/3ji\">Bra</a><a href=\"https://www.meesho.com//briefs-women/pl/3kl\">Briefs</a><a href=\"https://www.meesho.com//nightdresses-women/pl/3nm\">Nightsuits</a><a href=\"https://www.meesho.com//babydoll-dress/pl/3kv\">Babydolls</a><a href=\"https://www.meesho.com//topwear-men/pl/3tc\">All Top Wear</a><a href=\"https://www.meesho.com//tshirts-men/pl/3k8\">Tshirts</a><a href=\"https://www.meesho.com//shirts-men/pl/3jq\">Shirts</a><a href=\"https://www.meesho.com//track-pants-men/pl/3kw\">Track Pants</a><a href=\"https://www.meesho.com//jeans-men/pl/3nw\">Jeans</a><a href=\"https://www.meesho.com//trousers-men/pl/3lw\">Trousers</a><a href=\"https://www.meesho.com//accessories-men/pl/3tp\">All Men Accessories</a><a href=\"https://www.meesho.com//men-watches/pl/3k7\">Watches</a><a href=\"https://www.meesho.com//belts-men/pl/3nn\">Belts</a><a href=\"https://www.meesho.com//wallets-men/pl/3o5\">Wallets</a><a href=\"https://www.meesho.com//jewellery-men/pl/3tb\">Jewellery</a><a href=\"https://www.meesho.com//sunglasses-men/pl/3jr\">Sunglasses</a><a href=\"https://www.meesho.com//bags-backpacks-men/pl/3kr\">Bags</a><a href=\"https://www.meesho.com//casual-shoes-men/pl/3m2\">Casual Shoes</a><a href=\"https://www.meesho.com//sports-shoes-men/pl/3kj\">Sports Shoes</a><a href=\"https://www.meesho.com//sandals-men/pl/3js\">Sandals</a><a href=\"https://www.meesho.com//formal-shoes-for-men/pl/3o6\">Formal Shoes</a><a href=\"https://www.meesho.com//men-kurtas/pl/3j2\">Men Kurtas</a><a href=\"https://www.meesho.com//ethnic-jackets-men/pl/3j6\">Ethnic Jackets</a><a href=\"https://www.meesho.com//inner-sleepwear-men/pl/3te\">All Inner &amp; Sleep Wear</a><a href=\"https://www.meesho.com//vests-men/pl/3l0\">Vests</a><a href=\"https://www.meesho.com//dresses-kids/pl/3jg\">Dresses</a><a href=\"https://www.meesho.com//rompers/pl/3l4\">Rompers</a><a href=\"https://www.meesho.com//soft-toys-kids/pl/3l1\">Soft Toys</a><a href=\"https://www.meesho.com//footwear-kids/pl/3ti\">Footwear</a><a href=\"https://www.meesho.com//stationery-items/pl/3kz\">Stationery</a><a href=\"https://www.meesho.com//watches-kids/pl/3ko\">Watches</a><a href=\"https://www.meesho.com//bags-kids/pl/3kx\">Bags &amp; Backpacks</a><a href=\"https://www.meesho.com//baby-care/pl/3tj\">All Baby Care</a><a href=\"https://www.meesho.com//bedsheets/pl/3jm\">Bedsheets</a><a href=\"https://www.meesho.com//door-bath-mats/pl/3kf\">Doormats</a><a href=\"https://www.meesho.com//curtains-sheers/pl/3jn\">Curtains &amp; Sheers</a><a href=\"https://www.meesho.com//cushion-covers/pl/3k3\">Cushions &amp; Cushion Covers</a><a href=\"https://www.meesho.com//mattress-protectors/pl/3l3\">Mattress Protectors</a><a href=\"https://www.meesho.com//home-decor/pl/3tl\">All Home Decor</a><a href=\"https://www.meesho.com//decorative-stickers/pl/3ka\">Stickers</a><a href=\"https://www.meesho.com//clocks/pl/3kh\">Clocks</a><a href=\"https://www.meesho.com//show-pieces-home/pl/3ku\">Showpieces</a><a href=\"https://www.meesho.com//kitchen-storage/pl/3tn\">Kitchen Storage</a><a href=\"https://www.meesho.com//cookware-bakeware/pl/3tm\">Cookware &amp; Bakeware</a><a href=\"https://www.meesho.com//face-makeup/pl/3j7\">Face</a><a href=\"https://www.meesho.com//eye-makeup/pl/3j1\">Eyes</a><a href=\"https://www.meesho.com//lips-makeup/pl/3jd\">Lips</a><a href=\"https://www.meesho.com//nails-makeup/pl/3j9\">Nails</a><a href=\"https://www.meesho.com//sanitizers/pl/3kg\">Sanitizers</a><a href=\"https://www.meesho.com//oral-care/pl/3tf\">Oral Care</a><a href=\"https://www.meesho.com//feminine-hygiene/pl/3tg\">Feminine Hygiene</a><a href=\"https://www.meesho.com//deodrants/pl/3kt\">Deodorants</a><a href=\"https://www.meesho.com//jewellery-sets-women/pl/3jy\">Jewellery Set</a><a href=\"https://www.meesho.com//earrings-women/pl/3lc\">Earrings</a><a href=\"https://www.meesho.com//mangalsutras/pl/3j5\">Mangalsutras</a><a href=\"https://www.meesho.com//stud-earrings-women/pl/3n9\">Studs</a><a href=\"https://www.meesho.com//bangles-women/pl/3lv\">Bangles</a><a href=\"https://www.meesho.com//necklaces/pl/3lh\">Necklaces</a><a href=\"https://www.meesho.com//rings-women/pl/3j8\">Rings</a><a href=\"https://www.meesho.com//anklets-payal/pl/3je\">Anklets</a><a href=\"https://www.meesho.com//bags-ladies/pl/3jo\">Bags</a><a href=\"https://www.meesho.com//women-watches/pl/3jx\">Watches</a><a href=\"https://www.meesho.com//hair-accessories-women/pl/3jl\">Hair Accessories</a><a href=\"https://www.meesho.com//sunglasses-women/pl/3kd\">Sunglasses</a><a href=\"https://www.meesho.com//socks-women/pl/3km\">Socks</a><a href=\"https://www.meesho.com//bags-ladies/pl/3jo\">All Women Bags</a><a href=\"https://www.meesho.com//handbags-women/pl/3k2\">Handbags</a><a href=\"https://www.meesho.com//clutches-bags-women/pl/3nd\">Clutches</a><a href=\"https://www.meesho.com//slingbags-women/pl/3k4\">Slingbags</a><a href=\"https://www.meesho.com//bags-backpacks-men/pl/3kr\">All Men Bags</a><a href=\"https://www.meesho.com//wallets-men/pl/3o5\">Men Wallets</a><a href=\"https://www.meesho.com//sports-shoes-men/pl/3kj\">Sports Shoes</a><a href=\"https://www.meesho.com//casual-shoes-men/pl/3m2\">Casual Shoes</a><a href=\"https://www.meesho.com//formal-shoes-for-men/pl/3o6\">Formal Shoes</a><a href=\"https://www.meesho.com//sandals-men/pl/3js\">Sandals</a><a href=\"https://www.meesho.com//flats-women/pl/3o1\">Flats</a><a href=\"https://www.meesho.com//bellies/pl/3n8\">Bellies</a><a href=\"https://www.meesho.com//jutti/pl/3lx\">Juttis</a><a href=\"https://www.meesho.com//mobiles-and-accessories/pl/3tk\">All Mobile &amp; Accessories</a><a href=\"https://www.meesho.com//smart-watches/pl/3ks\">Smartwatches</a><a href=\"https://www.meesho.com//mobile-holders/pl/3ky\">Mobile Holders</a><a href=\"https://www.meesho.com//mobile-cases-covers/pl/3q3\">Mobile cases and covers</a><a href=\"https://www.meesho.com//appliances/pl/3to\">All Appliances</a><a href=\"https://www.meesho.com//grooming-kits-men/pl/3kn\">Grooming</a><a href=\"https://www.meesho.com//home-appliances/pl/3th\">Home Appliances</a></div>]"
      ]
     },
     "execution_count": 13,
     "metadata": {},
     "output_type": "execute_result"
    }
   ],
   "source": [
    "tags_catego"
   ]
  },
  {
   "cell_type": "code",
   "execution_count": 14,
   "id": "e3de3643",
   "metadata": {},
   "outputs": [],
   "source": [
    "header_cate='SEONavTree__StyledNavTree-sc-ozdxs8-0 llZXQj'\n",
    "header=tags_catego[0].find_all('a')"
   ]
  },
  {
   "cell_type": "code",
   "execution_count": 15,
   "id": "db7ce11e",
   "metadata": {},
   "outputs": [
    {
     "data": {
      "text/plain": [
       "'Satin Sarees'"
      ]
     },
     "execution_count": 15,
     "metadata": {},
     "output_type": "execute_result"
    }
   ],
   "source": [
    "header[7].text.strip()\n"
   ]
  },
  {
   "cell_type": "code",
   "execution_count": 17,
   "id": "341bfbf5",
   "metadata": {},
   "outputs": [],
   "source": [
    "categories=[]\n",
    "\n",
    "for div in header[1:]:\n",
    "    if div not in categories:\n",
    "        categories.append(div.text.strip())"
   ]
  },
  {
   "cell_type": "code",
   "execution_count": 18,
   "id": "cbaa2d1b",
   "metadata": {},
   "outputs": [
    {
     "data": {
      "text/plain": [
       "['All Sarees',\n",
       " 'Silk Sarees',\n",
       " 'Cotton Silk Sarees',\n",
       " 'Cotton Sarees',\n",
       " 'Georgette Sarees',\n",
       " 'Chiffon Sarees',\n",
       " 'Satin Sarees',\n",
       " 'Embroidered Sarees',\n",
       " 'All Kurtis',\n",
       " 'Anarkali Kurtis',\n",
       " 'Rayon Kurtis',\n",
       " 'Cotton Kurtis',\n",
       " 'Embroidered Kurtis',\n",
       " 'All Kurta Sets',\n",
       " 'All Suits & Dress Material',\n",
       " 'Cotton Suits',\n",
       " 'Embroidered Suits',\n",
       " 'Chanderi Suits',\n",
       " 'Blouses',\n",
       " 'Dupattas',\n",
       " 'Lehanga',\n",
       " 'Gown',\n",
       " 'Ethnic Bottomwear',\n",
       " 'Tops',\n",
       " 'Dresses',\n",
       " 'Sweaters',\n",
       " 'Jumpsuits',\n",
       " 'Jeans',\n",
       " 'Jeggings',\n",
       " 'Palazzos',\n",
       " 'Shorts',\n",
       " 'Skirts',\n",
       " 'Bra',\n",
       " 'Briefs',\n",
       " 'Nightsuits',\n",
       " 'Babydolls',\n",
       " 'All Top Wear',\n",
       " 'Tshirts',\n",
       " 'Shirts',\n",
       " 'Track Pants',\n",
       " 'Jeans',\n",
       " 'Trousers',\n",
       " 'All Men Accessories',\n",
       " 'Watches',\n",
       " 'Belts',\n",
       " 'Wallets',\n",
       " 'Jewellery',\n",
       " 'Sunglasses',\n",
       " 'Bags',\n",
       " 'Casual Shoes',\n",
       " 'Sports Shoes',\n",
       " 'Sandals',\n",
       " 'Formal Shoes',\n",
       " 'Men Kurtas',\n",
       " 'Ethnic Jackets',\n",
       " 'All Inner & Sleep Wear',\n",
       " 'Vests',\n",
       " 'Dresses',\n",
       " 'Rompers',\n",
       " 'Soft Toys',\n",
       " 'Footwear',\n",
       " 'Stationery',\n",
       " 'Watches',\n",
       " 'Bags & Backpacks',\n",
       " 'All Baby Care',\n",
       " 'Bedsheets',\n",
       " 'Doormats',\n",
       " 'Curtains & Sheers',\n",
       " 'Cushions & Cushion Covers',\n",
       " 'Mattress Protectors',\n",
       " 'All Home Decor',\n",
       " 'Stickers',\n",
       " 'Clocks',\n",
       " 'Showpieces',\n",
       " 'Kitchen Storage',\n",
       " 'Cookware & Bakeware',\n",
       " 'Face',\n",
       " 'Eyes',\n",
       " 'Lips',\n",
       " 'Nails',\n",
       " 'Sanitizers',\n",
       " 'Oral Care',\n",
       " 'Feminine Hygiene',\n",
       " 'Deodorants',\n",
       " 'Jewellery Set',\n",
       " 'Earrings',\n",
       " 'Mangalsutras',\n",
       " 'Studs',\n",
       " 'Bangles',\n",
       " 'Necklaces',\n",
       " 'Rings',\n",
       " 'Anklets',\n",
       " 'Bags',\n",
       " 'Watches',\n",
       " 'Hair Accessories',\n",
       " 'Sunglasses',\n",
       " 'Socks',\n",
       " 'All Women Bags',\n",
       " 'Handbags',\n",
       " 'Clutches',\n",
       " 'Slingbags',\n",
       " 'All Men Bags',\n",
       " 'Men Wallets',\n",
       " 'Sports Shoes',\n",
       " 'Casual Shoes',\n",
       " 'Formal Shoes',\n",
       " 'Sandals',\n",
       " 'Flats',\n",
       " 'Bellies',\n",
       " 'Juttis',\n",
       " 'All Mobile & Accessories',\n",
       " 'Smartwatches',\n",
       " 'Mobile Holders',\n",
       " 'Mobile cases and covers',\n",
       " 'All Appliances',\n",
       " 'Grooming',\n",
       " 'Home Appliances']"
      ]
     },
     "execution_count": 18,
     "metadata": {},
     "output_type": "execute_result"
    }
   ],
   "source": [
    "categories"
   ]
  },
  {
   "cell_type": "code",
   "execution_count": 19,
   "id": "6766f79f",
   "metadata": {},
   "outputs": [
    {
     "name": "stdout",
     "output_type": "stream",
     "text": [
      "['All Sarees', 'All Kurtis', 'All Kurta Sets', 'All Suits & Dress Material', 'All Top Wear', 'All Men Accessories', 'All Inner & Sleep Wear', 'All Baby Care', 'All Home Decor', 'All Women Bags', 'All Men Bags', 'All Mobile & Accessories', 'All Appliances']\n"
     ]
    }
   ],
   "source": [
    "all_categories = [category for category in categories if category.startswith('All')]\n",
    "print(all_categories)"
   ]
  },
  {
   "cell_type": "code",
   "execution_count": 24,
   "id": "6937da37",
   "metadata": {},
   "outputs": [],
   "source": [
    "all_categories=[]\n",
    "remain=[]\n",
    "\n",
    "for div in categories:\n",
    "    if div.startswith('All'):\n",
    "        all_categories.append(div)\n",
    "    else:\n",
    "        remain.append(div)\n",
    "        "
   ]
  },
  {
   "cell_type": "code",
   "execution_count": 25,
   "id": "7fbfe7d1",
   "metadata": {},
   "outputs": [
    {
     "data": {
      "text/plain": [
       "['All Sarees',\n",
       " 'All Kurtis',\n",
       " 'All Kurta Sets',\n",
       " 'All Suits & Dress Material',\n",
       " 'All Top Wear',\n",
       " 'All Men Accessories',\n",
       " 'All Inner & Sleep Wear',\n",
       " 'All Baby Care',\n",
       " 'All Home Decor',\n",
       " 'All Women Bags',\n",
       " 'All Men Bags',\n",
       " 'All Mobile & Accessories',\n",
       " 'All Appliances']"
      ]
     },
     "execution_count": 25,
     "metadata": {},
     "output_type": "execute_result"
    }
   ],
   "source": [
    "all_categories"
   ]
  },
  {
   "cell_type": "code",
   "execution_count": null,
   "id": "447a72ae",
   "metadata": {},
   "outputs": [],
   "source": []
  }
 ],
 "metadata": {
  "kernelspec": {
   "display_name": "Python 3",
   "language": "python",
   "name": "python3"
  },
  "language_info": {
   "codemirror_mode": {
    "name": "ipython",
    "version": 3
   },
   "file_extension": ".py",
   "mimetype": "text/x-python",
   "name": "python",
   "nbconvert_exporter": "python",
   "pygments_lexer": "ipython3",
   "version": "3.6.13"
  }
 },
 "nbformat": 4,
 "nbformat_minor": 5
}
