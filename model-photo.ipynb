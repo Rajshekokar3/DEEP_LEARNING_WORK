{
 "cells": [
  {
   "cell_type": "code",
   "execution_count": null,
   "id": "0509481f",
   "metadata": {},
   "outputs": [],
   "source": [
    "import tensorflow as tf \n",
    "physical_devices = tf.config.experimental.list_physical_devices('GPU')\n",
    "print(physical_devices)\n",
    "if physical_devices:\n",
    "    tf.config.experimental.set_memory_growth(physical_device[0],True)"
   ]
  },
  {
   "cell_type": "code",
   "execution_count": null,
   "id": "cf97d378",
   "metadata": {},
   "outputs": [],
   "source": [
    "import os \n",
    "import zipfile \n",
    "local_zip='E:\\module_photo.zip'\n",
    "zip_ref=zipfile.ZipFile(local_zip,'r')\n",
    "zip_ref.extractall()\n",
    "zip_ref.close()"
   ]
  },
  {
   "cell_type": "code",
   "execution_count": null,
   "id": "b528771f",
   "metadata": {},
   "outputs": [],
   "source": [
    "os.listdir('module_photos')"
   ]
  },
  {
   "cell_type": "code",
   "execution_count": null,
   "id": "6f719178",
   "metadata": {},
   "outputs": [],
   "source": [
    "os.listdir('module photos/train/males')"
   ]
  },
  {
   "cell_type": "code",
   "execution_count": null,
   "id": "04deb2e2",
   "metadata": {},
   "outputs": [],
   "source": [
    "os.listdir('module photos/validation/nanis')"
   ]
  },
  {
   "cell_type": "code",
   "execution_count": null,
   "id": "fc2166a1",
   "metadata": {},
   "outputs": [],
   "source": [
    "len(os.listdir('module photos/train/rajs'))"
   ]
  },
  {
   "cell_type": "code",
   "execution_count": null,
   "id": "b9dcbdb3",
   "metadata": {},
   "outputs": [],
   "source": [
    "len(os.listdir('module photos/train/nanis'))"
   ]
  },
  {
   "cell_type": "code",
   "execution_count": null,
   "id": "6b888f60",
   "metadata": {},
   "outputs": [],
   "source": [
    "len(os.listdir('module photos/validation/rajs'))"
   ]
  },
  {
   "cell_type": "code",
   "execution_count": null,
   "id": "59491f43",
   "metadata": {},
   "outputs": [],
   "source": [
    "len(os.listdir('module photos/validation/nanis'))"
   ]
  },
  {
   "cell_type": "code",
   "execution_count": null,
   "id": "809c59cc",
   "metadata": {},
   "outputs": [],
   "source": [
    "from keras.preprocessing.image import load_img,array_to_img,img_to_array"
   ]
  },
  {
   "cell_type": "code",
   "execution_count": null,
   "id": "bc334b75",
   "metadata": {},
   "outputs": [],
   "source": [
    "test1 =load_img('module photos/train/rajs/male6.jpg')"
   ]
  },
  {
   "cell_type": "code",
   "execution_count": null,
   "id": "6d52e8a6",
   "metadata": {},
   "outputs": [],
   "source": [
    "test1"
   ]
  },
  {
   "cell_type": "code",
   "execution_count": null,
   "id": "9adefdba",
   "metadata": {},
   "outputs": [],
   "source": [
    "test2=load_img('module photos/train/nanis/female1.jpg')"
   ]
  },
  {
   "cell_type": "markdown",
   "id": "3a2887dd",
   "metadata": {},
   "source": [
    "## "
   ]
  },
  {
   "cell_type": "code",
   "execution_count": null,
   "id": "ae64f64d",
   "metadata": {},
   "outputs": [],
   "source": [
    "test2"
   ]
  },
  {
   "cell_type": "code",
   "execution_count": null,
   "id": "4432a867",
   "metadata": {},
   "outputs": [],
   "source": [
    "test3 =load_img('module photos/validation/nanis/female2.jpg')"
   ]
  },
  {
   "cell_type": "markdown",
   "id": "b314cb1d",
   "metadata": {},
   "source": [
    "### "
   ]
  },
  {
   "cell_type": "code",
   "execution_count": null,
   "id": "e1df05cc",
   "metadata": {},
   "outputs": [],
   "source": [
    "test3"
   ]
  },
  {
   "cell_type": "code",
   "execution_count": null,
   "id": "30877d79",
   "metadata": {},
   "outputs": [],
   "source": [
    "from tensorflow.keras.models import Sequential\n",
    "from tensorflow.keras.layers import Dense,Conv2D,Flatten,Dropout,MaxPooling2D\n",
    "from tensorflow.keras.preprocessing.image import ImageDataGenerator\n",
    "import numpy as np\n",
    "import matplotlib.pyplot as plt"
   ]
  },
  {
   "cell_type": "code",
   "execution_count": null,
   "id": "ea45c44d",
   "metadata": {},
   "outputs": [],
   "source": [
    "parent_path=os.path.join('module photos')"
   ]
  },
  {
   "cell_type": "code",
   "execution_count": null,
   "id": "a0ad29c6",
   "metadata": {},
   "outputs": [],
   "source": [
    "parent_path"
   ]
  },
  {
   "cell_type": "code",
   "execution_count": null,
   "id": "48cc91cc",
   "metadata": {},
   "outputs": [],
   "source": [
    "train_dir=os.path.join(parent_path,'train')"
   ]
  },
  {
   "cell_type": "code",
   "execution_count": null,
   "id": "16178c01",
   "metadata": {},
   "outputs": [],
   "source": [
    "train_dir"
   ]
  },
  {
   "cell_type": "code",
   "execution_count": null,
   "id": "6f2aeb6a",
   "metadata": {},
   "outputs": [],
   "source": [
    "validation_drt=os.path.join(parent_path,'validation')"
   ]
  },
  {
   "cell_type": "code",
   "execution_count": null,
   "id": "59be1fdb",
   "metadata": {},
   "outputs": [],
   "source": [
    "validation_drt"
   ]
  },
  {
   "cell_type": "code",
   "execution_count": null,
   "id": "a3e44e4f",
   "metadata": {},
   "outputs": [],
   "source": [
    "os.listdir(validation_drt)"
   ]
  },
  {
   "cell_type": "code",
   "execution_count": null,
   "id": "5fba20cb",
   "metadata": {},
   "outputs": [],
   "source": [
    "train_male_dir = os.path.join(train_dir,'rajs')\n",
    "train_female_dir = os.path.join(train_dir,'nanis')"
   ]
  },
  {
   "cell_type": "code",
   "execution_count": null,
   "id": "17f7f666",
   "metadata": {},
   "outputs": [],
   "source": [
    "train_male_dir"
   ]
  },
  {
   "cell_type": "code",
   "execution_count": null,
   "id": "d6cddcda",
   "metadata": {},
   "outputs": [],
   "source": [
    "train_female_dir"
   ]
  },
  {
   "cell_type": "code",
   "execution_count": null,
   "id": "8d8f3534",
   "metadata": {},
   "outputs": [],
   "source": [
    "validation_male_dir = os.path.join(validation_drt,'rajs')\n",
    "validation_female_dir = os.path.join(validation_drt,'nanis')"
   ]
  },
  {
   "cell_type": "code",
   "execution_count": null,
   "id": "3d296bd6",
   "metadata": {},
   "outputs": [],
   "source": [
    "validation_male_dir"
   ]
  },
  {
   "cell_type": "code",
   "execution_count": null,
   "id": "6a59576a",
   "metadata": {},
   "outputs": [],
   "source": [
    "os.listdir(train_female_dir)"
   ]
  },
  {
   "cell_type": "code",
   "execution_count": null,
   "id": "ee92c66d",
   "metadata": {},
   "outputs": [],
   "source": [
    "os.listdir('module photos/train/nanis/')"
   ]
  },
  {
   "cell_type": "code",
   "execution_count": null,
   "id": "d271bee2",
   "metadata": {},
   "outputs": [],
   "source": [
    "num_male_tr=len(os.listdir(train_male_dir))\n",
    "num_female_tr=len(os.listdir(train_female_dir))\n",
    "num_male_val = len(os.listdir(validation_male_dir))\n",
    "num_female_val = len(os.listdir(validation_female_dir))\n",
    "print('male training data ',num_male_tr)\n",
    "print('female training Data ',num_female_tr)\n",
    "print('male Valid data ',num_male_val)\n",
    "print('female valid data ',num_female_val)"
   ]
  },
  {
   "cell_type": "code",
   "execution_count": null,
   "id": "08c1b460",
   "metadata": {},
   "outputs": [],
   "source": [
    "len(os.listdir(train_male_dir))"
   ]
  },
  {
   "cell_type": "code",
   "execution_count": null,
   "id": "fa3edc1d",
   "metadata": {},
   "outputs": [],
   "source": [
    "total_train=num_male_tr+num_female_tr\n",
    "total_val=num_male_val+num_female_val\n",
    "print('Total Training images = ',total_train)\n",
    "print('Total validation images = ',total_val)"
   ]
  },
  {
   "cell_type": "code",
   "execution_count": null,
   "id": "018545f2",
   "metadata": {},
   "outputs": [],
   "source": [
    "batch_size = 8\n",
    "epochs = 25\n",
    "IMG_HIEGHT = 150\n",
    "IMG_WIDHT = 150"
   ]
  },
  {
   "cell_type": "code",
   "execution_count": null,
   "id": "e9bbce12",
   "metadata": {},
   "outputs": [],
   "source": [
    "train_image_generator = ImageDataGenerator(rescale=1./255)\n",
    "validation_image_generator = ImageDataGenerator(rescale=1./255)"
   ]
  },
  {
   "cell_type": "code",
   "execution_count": null,
   "id": "8015e62d",
   "metadata": {},
   "outputs": [],
   "source": [
    "train_data_gen = train_image_generator.flow_from_directory(batch_size=batch_size,\n",
    "                                                           directory=train_dir,\n",
    "                                                           shuffle=True,\n",
    "                                                           target_size=(IMG_HIEGHT,IMG_WIDHT),\n",
    "                                                           class_mode='binary')"
   ]
  },
  {
   "cell_type": "code",
   "execution_count": null,
   "id": "771ef057",
   "metadata": {},
   "outputs": [],
   "source": [
    "val_data_gen = validation_image_generator.flow_from_directory(batch_size=batch_size,\n",
    "                                                              directory=validation_drt,\n",
    "                                                              target_size=(IMG_HIEGHT,IMG_WIDHT),\n",
    "                                                              class_mode='binary')"
   ]
  },
  {
   "cell_type": "code",
   "execution_count": null,
   "id": "e7c6fac2",
   "metadata": {},
   "outputs": [],
   "source": [
    "train_data_gen.class_indices"
   ]
  },
  {
   "cell_type": "code",
   "execution_count": null,
   "id": "d761dffc",
   "metadata": {},
   "outputs": [],
   "source": [
    "sample_image,label = next(train_data_gen)"
   ]
  },
  {
   "cell_type": "code",
   "execution_count": null,
   "id": "3ddefeac",
   "metadata": {},
   "outputs": [],
   "source": [
    "sample_image.shape"
   ]
  },
  {
   "cell_type": "code",
   "execution_count": null,
   "id": "99f975ca",
   "metadata": {},
   "outputs": [],
   "source": [
    "sample_image[0]"
   ]
  },
  {
   "cell_type": "code",
   "execution_count": null,
   "id": "f0edf19b",
   "metadata": {},
   "outputs": [],
   "source": [
    "plt.imshow(sample_image[2])"
   ]
  },
  {
   "cell_type": "code",
   "execution_count": null,
   "id": "f042dcee",
   "metadata": {},
   "outputs": [],
   "source": [
    "label[2]\n"
   ]
  },
  {
   "cell_type": "code",
   "execution_count": null,
   "id": "326faf27",
   "metadata": {},
   "outputs": [],
   "source": [
    "def plotImages(images_arr):\n",
    "    fig, axes = plt.subplots(1,5,figsize=(20,20))\n",
    "    axes = axes.flatten()\n",
    "    for img,ax in zip(images_arr,axes):\n",
    "        ax.imshow(img)\n",
    "        ax.axis('off')\n",
    "    plt.tight_layout()\n",
    "    plt.show()"
   ]
  },
  {
   "cell_type": "code",
   "execution_count": null,
   "id": "ccfff9ef",
   "metadata": {},
   "outputs": [],
   "source": [
    "plotImages(sample_image[:6])"
   ]
  },
  {
   "cell_type": "code",
   "execution_count": null,
   "id": "436f604c",
   "metadata": {},
   "outputs": [],
   "source": [
    "model = Sequential([\n",
    "    Conv2D(16,3,padding='same',activation='relu',input_shape=(IMG_HIEGHT,IMG_WIDHT,3)), #150\n",
    "    MaxPooling2D(), #75\n",
    "    Conv2D(32,3,padding='same',activation='relu'), #75\n",
    "    MaxPooling2D(),#37\n",
    "    Conv2D(64,3,padding='same',activation='relu'),#37\n",
    "    MaxPooling2D(),#18\n",
    "    Flatten(),\n",
    "    Dense(512,activation='relu'),\n",
    "    Dense(1,activation='sigmoid')\n",
    "])"
   ]
  },
  {
   "cell_type": "code",
   "execution_count": null,
   "id": "9036c6ac",
   "metadata": {},
   "outputs": [],
   "source": [
    "model.summary()"
   ]
  },
  {
   "cell_type": "code",
   "execution_count": null,
   "id": "f3587417",
   "metadata": {},
   "outputs": [],
   "source": [
    "model.compile(loss='binary_crossentropy',optimizer='adam',metrics=['accuracy'])"
   ]
  },
  {
   "cell_type": "code",
   "execution_count": null,
   "id": "6e082657",
   "metadata": {},
   "outputs": [],
   "source": [
    "history = model.fit(train_data_gen,steps_per_epoch=total_train//batch_size,epochs=epochs,\n",
    "                             validation_data=val_data_gen,validation_steps=total_val//batch_size)"
   ]
  },
  {
   "cell_type": "code",
   "execution_count": null,
   "id": "041e2b4b",
   "metadata": {},
   "outputs": [],
   "source": [
    "acc = history.history['accuracy']\n",
    "val_acc = history.history['val_accuracy']\n",
    "loss = history.history['loss']\n",
    "val_loss = history.history['val_loss']\n",
    "epochs_range = range(epochs)\n",
    "plt.figure(figsize=(8,4))\n",
    "plt.subplot(1,2,1)\n",
    "plt.plot(epochs_range,acc,label='Training Accuracy')\n",
    "plt.plot(epochs_range,val_acc,label='Val Accuracy')\n",
    "plt.legend(loc=0)\n",
    "plt.title('Accuracy')\n",
    "plt.subplot(1,2,2)\n",
    "plt.plot(epochs_range,loss,label='Training Loss')\n",
    "plt.plot(epochs_range,val_loss,label='Val LOss')\n",
    "plt.legend(loc=0)\n",
    "plt.title('Loss')\n",
    "plt.show()"
   ]
  },
  {
   "cell_type": "code",
   "execution_count": null,
   "id": "cf306b2a",
   "metadata": {},
   "outputs": [],
   "source": [
    "test_img = load_img('images.jpg',target_size=(150,150))"
   ]
  },
  {
   "cell_type": "code",
   "execution_count": null,
   "id": "5d99be5d",
   "metadata": {},
   "outputs": [],
   "source": []
  }
 ],
 "metadata": {
  "kernelspec": {
   "display_name": "Python 3",
   "language": "python",
   "name": "python3"
  },
  "language_info": {
   "codemirror_mode": {
    "name": "ipython",
    "version": 3
   },
   "file_extension": ".py",
   "mimetype": "text/x-python",
   "name": "python",
   "nbconvert_exporter": "python",
   "pygments_lexer": "ipython3",
   "version": "3.6.13"
  }
 },
 "nbformat": 4,
 "nbformat_minor": 5
}
